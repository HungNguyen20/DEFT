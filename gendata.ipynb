{
 "cells": [
  {
   "cell_type": "markdown",
   "id": "2c53e0cd",
   "metadata": {},
   "source": [
    "### NOTEARS: Synthetic\n",
    "\n",
    "Random graphs $+$ Data generating model $\\to$ data "
   ]
  },
  {
   "cell_type": "code",
   "execution_count": 1,
   "id": "f343a4ad",
   "metadata": {},
   "outputs": [],
   "source": [
    "from HCD.notears_utils import *\n",
    "from pathlib import Path\n",
    "import os\n",
    "import pandas as pd\n",
    "\n",
    "\n",
    "n, d, graph_type, sem_type = 1000, 500, 'ER', 'logistic'\n",
    "s0 = 2 * d\n",
    "\n",
    "for i in range(10):\n",
    "    set_random_seed(2025 + i)   # Do not change this\n",
    "    B_true = simulate_dag(d, s0, graph_type)\n",
    "    W_true = simulate_parameter(B_true)\n",
    "    X = simulate_linear_sem(W_true, n, sem_type)\n",
    "\n",
    "    if not Path(f'data/{graph_type}-{sem_type}-{n}-{d}-{s0}/{i}').exists():\n",
    "        os.makedirs(f'data/{graph_type}-{sem_type}-{n}-{d}-{s0}/{i}')\n",
    "\n",
    "    vars = [f\"X{i}\" for i in range(d)]\n",
    "    data_df = pd.DataFrame(X, columns=vars)\n",
    "    groundtruth = pd.DataFrame(B_true, columns=vars)\n",
    "    \n",
    "    data_df.to_csv(f'data/{graph_type}-{sem_type}-{n}-{d}-{s0}/{i}/data.csv', index=False)\n",
    "    groundtruth.to_csv(f'data/{graph_type}-{sem_type}-{n}-{d}-{s0}/{i}/groundtruth.csv', index=False)\n"
   ]
  },
  {
   "cell_type": "markdown",
   "id": "c1f17c5f",
   "metadata": {},
   "source": [
    "### Bnlearn: Real\n",
    "\n",
    "Deterministic graphs $+$ deterministic probabilistic generating model $\\to$ data <br>\n",
    "\n",
    "These deterministic elements are provided by [bnlearn](https://www.bnlearn.com/bnrepository/)"
   ]
  },
  {
   "cell_type": "code",
   "execution_count": 2,
   "id": "d6e663a5",
   "metadata": {},
   "outputs": [],
   "source": [
    "from pgmpy.readwrite import BIFReader\n",
    "\n",
    "dataset = \"win95pts\"\n",
    "\n",
    "reader = BIFReader(f'data/bnlearn/{dataset}.bif')\n",
    "model = reader.get_model()"
   ]
  },
  {
   "cell_type": "code",
   "execution_count": 3,
   "id": "a1e49a6f",
   "metadata": {},
   "outputs": [],
   "source": [
    "import pandas as pd\n",
    "import networkx as nx\n",
    "\n",
    "# The underlying DAG is a networkx DiGraph\n",
    "dag = model.edges\n",
    "\n",
    "# Create a directed graph from edges\n",
    "G = nx.DiGraph()\n",
    "G.add_edges_from(dag)\n",
    "\n",
    "# Generate adjacency matrix as DataFrame\n",
    "adj_matrix = pd.DataFrame(nx.adjacency_matrix(G).todense(), index=G.nodes, columns=G.nodes)"
   ]
  },
  {
   "cell_type": "code",
   "execution_count": 4,
   "id": "2162661f",
   "metadata": {},
   "outputs": [
    {
     "data": {
      "application/vnd.jupyter.widget-view+json": {
       "model_id": "e937d1a8b3b74c93b064c67a6ededa0d",
       "version_major": 2,
       "version_minor": 0
      },
      "text/plain": [
       "  0%|          | 0/76 [00:00<?, ?it/s]"
      ]
     },
     "metadata": {},
     "output_type": "display_data"
    }
   ],
   "source": [
    "from pgmpy.sampling import BayesianModelSampling\n",
    "\n",
    "# Sampling\n",
    "inference = BayesianModelSampling(model)\n",
    "n=10000\n",
    "df = inference.forward_sample(size=n, seed=2025)\n",
    "df = df[list(G.nodes)]"
   ]
  },
  {
   "cell_type": "code",
   "execution_count": 5,
   "id": "08b8853f",
   "metadata": {},
   "outputs": [],
   "source": [
    "import os\n",
    "from pathlib import Path\n",
    "\n",
    "if not Path(f\"data/{dataset}\").exists():\n",
    "    os.makedirs(f\"data/{dataset}\")\n",
    "\n",
    "df.to_csv(f\"data/{dataset}/data_{n}.csv\", index=False)\n",
    "adj_matrix.to_csv(f\"data/{dataset}/graph.csv\", index=False)"
   ]
  },
  {
   "cell_type": "markdown",
   "id": "588b9f74",
   "metadata": {},
   "source": [
    "### Semi-synthetic\n",
    "\n",
    "Bnlearn deterministic graphs $+$ NOTEARS data generating model $\\to$ data"
   ]
  },
  {
   "cell_type": "code",
   "execution_count": 8,
   "id": "4039c11d",
   "metadata": {},
   "outputs": [],
   "source": [
    "from pgmpy.readwrite import BIFReader\n",
    "import pandas as pd\n",
    "import networkx as nx\n",
    "\n",
    "dataset = \"win95pts\"\n",
    "\n",
    "reader = BIFReader(f'data/bnlearn/{dataset}.bif')\n",
    "model = reader.get_model()\n",
    "\n",
    "# The underlying DAG is a networkx DiGraph\n",
    "dag = model.edges\n",
    "\n",
    "# Create a directed graph from edges\n",
    "G = nx.DiGraph()\n",
    "G.add_edges_from(dag)\n",
    "\n",
    "# Generate adjacency matrix as DataFrame\n",
    "adj_matrix = pd.DataFrame(nx.adjacency_matrix(G).todense(), index=G.nodes, columns=G.nodes).to_numpy()"
   ]
  },
  {
   "cell_type": "code",
   "execution_count": 9,
   "id": "98385c05",
   "metadata": {},
   "outputs": [],
   "source": [
    "from HCD.notears_utils import *\n",
    "from pathlib import Path\n",
    "import os\n",
    "import pandas as pd\n",
    "\n",
    "d = adj_matrix.shape[0]\n",
    "n, sem_type = 1000, 'gauss'\n",
    "\n",
    "for i in range(10):\n",
    "    set_random_seed(2025 + i)   # Do not change this\n",
    "    B_true = adj_matrix\n",
    "    W_true = simulate_parameter(B_true)\n",
    "    X = simulate_linear_sem(W_true, n, sem_type)\n",
    "\n",
    "    if not Path(f'data/{dataset}-{sem_type}-{n}/{i}').exists():\n",
    "        os.makedirs(f'data/{dataset}-{sem_type}-{n}/{i}')\n",
    "\n",
    "    vars = [f\"X{i}\" for i in range(d)]\n",
    "    data_df = pd.DataFrame(X, columns=vars)\n",
    "    groundtruth = pd.DataFrame(B_true, columns=vars)\n",
    "    \n",
    "    data_df.to_csv(f'data/{dataset}-{sem_type}-{n}/{i}/data.csv', index=False)\n",
    "    groundtruth.to_csv(f'data/{dataset}-{sem_type}-{n}/{i}/groundtruth.csv', index=False)\n"
   ]
  },
  {
   "cell_type": "code",
   "execution_count": null,
   "id": "6d428d80",
   "metadata": {},
   "outputs": [],
   "source": []
  }
 ],
 "metadata": {
  "kernelspec": {
   "display_name": "rpy",
   "language": "python",
   "name": "python3"
  },
  "language_info": {
   "codemirror_mode": {
    "name": "ipython",
    "version": 3
   },
   "file_extension": ".py",
   "mimetype": "text/x-python",
   "name": "python",
   "nbconvert_exporter": "python",
   "pygments_lexer": "ipython3",
   "version": "3.12.8"
  }
 },
 "nbformat": 4,
 "nbformat_minor": 5
}
