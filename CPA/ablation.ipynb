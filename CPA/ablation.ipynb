{
 "cells": [
  {
   "cell_type": "code",
   "execution_count": 1,
   "id": "0bed970f",
   "metadata": {},
   "outputs": [],
   "source": [
    "import sys \n",
    "sys.path.append('../../VerticalCausalDiscovery')\n",
    "from oraclecit import CitOracle\n",
    "import pandas as pd"
   ]
  },
  {
   "cell_type": "code",
   "execution_count": 2,
   "id": "bed76703",
   "metadata": {},
   "outputs": [
    {
     "name": "stderr",
     "output_type": "stream",
     "text": [
      "2025-06-23 19:08:20,241 - /home/nanghung/miniconda3/envs/rpy/lib/python3.12/site-packages/castle/backend/__init__.py[line:36] - INFO: You can use `os.environ['CASTLE_BACKEND'] = backend` to set the backend(`pytorch` or `mindspore`).\n",
      "2025-06-23 19:08:20,291 - /home/nanghung/miniconda3/envs/rpy/lib/python3.12/site-packages/castle/algorithms/__init__.py[line:36] - INFO: You are using ``pytorch`` as the backend.\n"
     ]
    }
   ],
   "source": [
    "from CPA import DependenceGraph, CausalPartitioning"
   ]
  },
  {
   "cell_type": "code",
   "execution_count": 17,
   "id": "5b72ad56",
   "metadata": {},
   "outputs": [],
   "source": [
    "options = {}\n",
    "options[\"data_path\"] = \"../data/andes-gauss-1000/0/data.csv\"\n",
    "options[\"groundtruth_path\"] = \"../data/andes-gauss-1000/0/groundtruth.csv\"\n",
    "options[\"maxCset\"] = 2"
   ]
  },
  {
   "cell_type": "code",
   "execution_count": 18,
   "id": "6bbfebb9",
   "metadata": {},
   "outputs": [],
   "source": [
    "data=pd.read_csv(options['data_path'])\n",
    "stru_GT=pd.read_csv(options['groundtruth_path']).to_numpy()\n",
    "citobject = CitOracle(stru_GT)"
   ]
  },
  {
   "cell_type": "code",
   "execution_count": 19,
   "id": "c27b2bf6",
   "metadata": {},
   "outputs": [
    {
     "data": {
      "text/plain": [
       "220"
      ]
     },
     "execution_count": 19,
     "metadata": {},
     "output_type": "execute_result"
    }
   ],
   "source": [
    "d = data.shape[1]\n",
    "d"
   ]
  },
  {
   "cell_type": "code",
   "execution_count": 20,
   "id": "bb518346",
   "metadata": {},
   "outputs": [],
   "source": [
    "G=DependenceGraph(data) "
   ]
  },
  {
   "cell_type": "code",
   "execution_count": 21,
   "id": "475552fd",
   "metadata": {},
   "outputs": [],
   "source": [
    "V1, V2 = CausalPartitioning(G, citobject, k_par=options['maxCset'])"
   ]
  },
  {
   "cell_type": "code",
   "execution_count": 22,
   "id": "135b228d",
   "metadata": {},
   "outputs": [
    {
     "data": {
      "text/plain": [
       "(213, 52)"
      ]
     },
     "execution_count": 22,
     "metadata": {},
     "output_type": "execute_result"
    }
   ],
   "source": [
    "len(V1), len(V2)"
   ]
  },
  {
   "cell_type": "code",
   "execution_count": null,
   "id": "b45a887c",
   "metadata": {},
   "outputs": [],
   "source": []
  }
 ],
 "metadata": {
  "kernelspec": {
   "display_name": "rpy",
   "language": "python",
   "name": "python3"
  },
  "language_info": {
   "codemirror_mode": {
    "name": "ipython",
    "version": 3
   },
   "file_extension": ".py",
   "mimetype": "text/x-python",
   "name": "python",
   "nbconvert_exporter": "python",
   "pygments_lexer": "ipython3",
   "version": "3.12.8"
  }
 },
 "nbformat": 4,
 "nbformat_minor": 5
}
