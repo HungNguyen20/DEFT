{
 "cells": [
  {
   "cell_type": "markdown",
   "id": "cd8889c3",
   "metadata": {},
   "source": [
    "## How do download bif files\n",
    "For example: \n",
    "```bash\n",
    "wget https://www.bnlearn.com/bnrepository/andes/andes.bif.gz\n",
    "```\n",
    "Then:\n",
    "```bash\n",
    "gunzip andes.bif.gz\n",
    "```"
   ]
  },
  {
   "cell_type": "code",
   "execution_count": 1,
   "id": "8623c313",
   "metadata": {},
   "outputs": [
    {
     "name": "stdout",
     "output_type": "stream",
     "text": [
      "gzip: barley.bif.gz: No such file or directory\n"
     ]
    }
   ],
   "source": [
    "# !wget https://www.bnlearn.com/bnrepository/alarm/alarm.bif.gz\n",
    "!gunzip barley.bif.gz"
   ]
  },
  {
   "cell_type": "code",
   "execution_count": 2,
   "id": "65e1e7ce",
   "metadata": {},
   "outputs": [
    {
     "name": "stderr",
     "output_type": "stream",
     "text": [
      "INFO:numexpr.utils:Note: NumExpr detected 48 cores but \"NUMEXPR_MAX_THREADS\" not set, so enforcing safe limit of 16.\n",
      "INFO:numexpr.utils:NumExpr defaulting to 16 threads.\n"
     ]
    }
   ],
   "source": [
    "from pgmpy.readwrite import BIFReader\n",
    "\n",
    "dataset = \"andes\"\n",
    "\n",
    "reader = BIFReader(f'{dataset}.bif')\n",
    "model = reader.get_model()"
   ]
  },
  {
   "cell_type": "code",
   "execution_count": 3,
   "id": "f735df3f",
   "metadata": {},
   "outputs": [],
   "source": [
    "import pandas as pd\n",
    "import networkx as nx\n",
    "\n",
    "# The underlying DAG is a networkx DiGraph\n",
    "dag = model.edges\n",
    "\n",
    "# Create a directed graph from edges\n",
    "G = nx.DiGraph()\n",
    "G.add_edges_from(dag)\n",
    "\n",
    "# Generate adjacency matrix as DataFrame\n",
    "adj_matrix = pd.DataFrame(nx.adjacency_matrix(G).todense(), index=G.nodes, columns=G.nodes)\n"
   ]
  },
  {
   "cell_type": "code",
   "execution_count": 4,
   "id": "4ee0818d",
   "metadata": {},
   "outputs": [
    {
     "data": {
      "application/vnd.jupyter.widget-view+json": {
       "model_id": "d114ec2ebc754620a4ec4c15e8185558",
       "version_major": 2,
       "version_minor": 0
      },
      "text/plain": [
       "  0%|          | 0/223 [00:00<?, ?it/s]"
      ]
     },
     "metadata": {},
     "output_type": "display_data"
    }
   ],
   "source": [
    "from pgmpy.sampling import BayesianModelSampling\n",
    "\n",
    "# Sampling\n",
    "inference = BayesianModelSampling(model)\n",
    "n=10000\n",
    "df = inference.forward_sample(size=n, seed=2025)\n",
    "df = df[list(G.nodes)]"
   ]
  },
  {
   "cell_type": "code",
   "execution_count": 5,
   "id": "a2ed8fe5",
   "metadata": {},
   "outputs": [],
   "source": [
    "import os\n",
    "from pathlib import Path\n",
    "\n",
    "if not Path(f\"../{dataset}\").exists():\n",
    "    os.makedirs(f\"../{dataset}\")\n",
    "\n",
    "df.to_csv(f\"../{dataset}/data_{n}.csv\", index=False)\n",
    "adj_matrix.to_csv(f\"../{dataset}/graph.csv\", index=False)"
   ]
  },
  {
   "cell_type": "code",
   "execution_count": null,
   "id": "8edbbddf",
   "metadata": {},
   "outputs": [],
   "source": []
  }
 ],
 "metadata": {
  "kernelspec": {
   "display_name": "rpy",
   "language": "python",
   "name": "python3"
  },
  "language_info": {
   "codemirror_mode": {
    "name": "ipython",
    "version": 3
   },
   "file_extension": ".py",
   "mimetype": "text/x-python",
   "name": "python",
   "nbconvert_exporter": "python",
   "pygments_lexer": "ipython3",
   "version": "3.12.8"
  }
 },
 "nbformat": 4,
 "nbformat_minor": 5
}
